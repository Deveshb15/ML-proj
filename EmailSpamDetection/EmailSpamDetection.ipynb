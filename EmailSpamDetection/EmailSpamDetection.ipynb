{
  "nbformat": 4,
  "nbformat_minor": 0,
  "metadata": {
    "colab": {
      "name": "EmailSpamDetection.ipynb",
      "provenance": [],
      "collapsed_sections": []
    },
    "kernelspec": {
      "name": "python3",
      "display_name": "Python 3"
    },
    "language_info": {
      "name": "python"
    }
  },
  "cells": [
    {
      "cell_type": "code",
      "metadata": {
        "id": "fiIjz4E1Y_RI"
      },
      "source": [
        "import numpy as np\n",
        "import pandas as pd\n",
        "from sklearn.model_selection import train_test_split\n",
        "from sklearn.preprocessing import LabelEncoder\n",
        "from sklearn.feature_extraction.text import CountVectorizer\n",
        "from nltk.tokenize import word_tokenize, RegexpTokenizer\n",
        "from nltk.stem import PorterStemmer\n",
        "from nltk.corpus import stopwords"
      ],
      "execution_count": 1,
      "outputs": []
    },
    {
      "cell_type": "code",
      "metadata": {
        "id": "owh11WonaM_1"
      },
      "source": [
        "df = pd.read_csv('./spam.csv', encoding='ISO-8859-1')"
      ],
      "execution_count": 2,
      "outputs": []
    },
    {
      "cell_type": "code",
      "metadata": {
        "colab": {
          "base_uri": "https://localhost:8080/",
          "height": 195
        },
        "id": "gGYeVsRtabOV",
        "outputId": "3403bd4f-5296-4fd5-8d7e-375bfb550a38"
      },
      "source": [
        "df.head()"
      ],
      "execution_count": 3,
      "outputs": [
        {
          "output_type": "execute_result",
          "data": {
            "text/html": [
              "<div>\n",
              "<style scoped>\n",
              "    .dataframe tbody tr th:only-of-type {\n",
              "        vertical-align: middle;\n",
              "    }\n",
              "\n",
              "    .dataframe tbody tr th {\n",
              "        vertical-align: top;\n",
              "    }\n",
              "\n",
              "    .dataframe thead th {\n",
              "        text-align: right;\n",
              "    }\n",
              "</style>\n",
              "<table border=\"1\" class=\"dataframe\">\n",
              "  <thead>\n",
              "    <tr style=\"text-align: right;\">\n",
              "      <th></th>\n",
              "      <th>v1</th>\n",
              "      <th>v2</th>\n",
              "      <th>Unnamed: 2</th>\n",
              "      <th>Unnamed: 3</th>\n",
              "      <th>Unnamed: 4</th>\n",
              "    </tr>\n",
              "  </thead>\n",
              "  <tbody>\n",
              "    <tr>\n",
              "      <th>0</th>\n",
              "      <td>ham</td>\n",
              "      <td>Go until jurong point, crazy.. Available only ...</td>\n",
              "      <td>NaN</td>\n",
              "      <td>NaN</td>\n",
              "      <td>NaN</td>\n",
              "    </tr>\n",
              "    <tr>\n",
              "      <th>1</th>\n",
              "      <td>ham</td>\n",
              "      <td>Ok lar... Joking wif u oni...</td>\n",
              "      <td>NaN</td>\n",
              "      <td>NaN</td>\n",
              "      <td>NaN</td>\n",
              "    </tr>\n",
              "    <tr>\n",
              "      <th>2</th>\n",
              "      <td>spam</td>\n",
              "      <td>Free entry in 2 a wkly comp to win FA Cup fina...</td>\n",
              "      <td>NaN</td>\n",
              "      <td>NaN</td>\n",
              "      <td>NaN</td>\n",
              "    </tr>\n",
              "    <tr>\n",
              "      <th>3</th>\n",
              "      <td>ham</td>\n",
              "      <td>U dun say so early hor... U c already then say...</td>\n",
              "      <td>NaN</td>\n",
              "      <td>NaN</td>\n",
              "      <td>NaN</td>\n",
              "    </tr>\n",
              "    <tr>\n",
              "      <th>4</th>\n",
              "      <td>ham</td>\n",
              "      <td>Nah I don't think he goes to usf, he lives aro...</td>\n",
              "      <td>NaN</td>\n",
              "      <td>NaN</td>\n",
              "      <td>NaN</td>\n",
              "    </tr>\n",
              "  </tbody>\n",
              "</table>\n",
              "</div>"
            ],
            "text/plain": [
              "     v1  ... Unnamed: 4\n",
              "0   ham  ...        NaN\n",
              "1   ham  ...        NaN\n",
              "2  spam  ...        NaN\n",
              "3   ham  ...        NaN\n",
              "4   ham  ...        NaN\n",
              "\n",
              "[5 rows x 5 columns]"
            ]
          },
          "metadata": {
            "tags": []
          },
          "execution_count": 3
        }
      ]
    },
    {
      "cell_type": "code",
      "metadata": {
        "id": "CJgoGXM2au9w"
      },
      "source": [
        "data = df.to_numpy()"
      ],
      "execution_count": 4,
      "outputs": []
    },
    {
      "cell_type": "code",
      "metadata": {
        "id": "EwhZ8jHacS_o"
      },
      "source": [
        "X = data[:, 1]\n",
        "y = data[:, 0]"
      ],
      "execution_count": 5,
      "outputs": []
    },
    {
      "cell_type": "code",
      "metadata": {
        "colab": {
          "base_uri": "https://localhost:8080/"
        },
        "id": "FRwvrHD9ccHm",
        "outputId": "ca9f2d64-b880-49d0-d5d4-bbbe9b6d4dff"
      },
      "source": [
        "X.shape, y.shape"
      ],
      "execution_count": 6,
      "outputs": [
        {
          "output_type": "execute_result",
          "data": {
            "text/plain": [
              "((5572,), (5572,))"
            ]
          },
          "metadata": {
            "tags": []
          },
          "execution_count": 6
        }
      ]
    },
    {
      "cell_type": "code",
      "metadata": {
        "id": "uTFPOtGCbUNZ"
      },
      "source": [
        "tokenizer = RegexpTokenizer('\\w+')\n",
        "sw = set(stopwords.words('english'))\n",
        "ps = PorterStemmer()"
      ],
      "execution_count": 7,
      "outputs": []
    },
    {
      "cell_type": "code",
      "metadata": {
        "id": "ZJUeimFDb-0P"
      },
      "source": [
        "def getStem(review):\n",
        "  review = review.lower()\n",
        "  tokens = tokenizer.tokenize(review)\n",
        "  removed_stopwords = [w for w in tokens if w not in sw]\n",
        "  stemmed_words = [ps.stem(token) for token in removed_stopwords]\n",
        "  clean_review = ' '.join(stemmed_words)\n",
        "  return clean_review"
      ],
      "execution_count": 8,
      "outputs": []
    },
    {
      "cell_type": "code",
      "metadata": {
        "id": "g9mv6dJkdqHG"
      },
      "source": [
        "def getDoc(document):\n",
        "  d = []\n",
        "  for doc in document:\n",
        "    d.append(getStem(doc))\n",
        "  return d"
      ],
      "execution_count": 9,
      "outputs": []
    },
    {
      "cell_type": "code",
      "metadata": {
        "id": "90oZGbRLd9Qa"
      },
      "source": [
        "stemmed_doc = getDoc(X)"
      ],
      "execution_count": 10,
      "outputs": []
    },
    {
      "cell_type": "code",
      "metadata": {
        "colab": {
          "base_uri": "https://localhost:8080/"
        },
        "id": "SZ1YJ-QgecmF",
        "outputId": "efb6116f-d9a3-4bba-da1a-20de714205a6"
      },
      "source": [
        "stemmed_doc[:10]"
      ],
      "execution_count": 11,
      "outputs": [
        {
          "output_type": "execute_result",
          "data": {
            "text/plain": [
              "['go jurong point crazi avail bugi n great world la e buffet cine got amor wat',\n",
              " 'ok lar joke wif u oni',\n",
              " 'free entri 2 wkli comp win fa cup final tkt 21st may 2005 text fa 87121 receiv entri question std txt rate c appli 08452810075over18',\n",
              " 'u dun say earli hor u c alreadi say',\n",
              " 'nah think goe usf live around though',\n",
              " 'freemsg hey darl 3 week word back like fun still tb ok xxx std chg send å 1 50 rcv',\n",
              " 'even brother like speak treat like aid patent',\n",
              " 'per request mell mell oru minnaminungint nurungu vettam set callertun caller press 9 copi friend callertun',\n",
              " 'winner valu network custom select receivea å 900 prize reward claim call 09061701461 claim code kl341 valid 12 hour',\n",
              " 'mobil 11 month u r entitl updat latest colour mobil camera free call mobil updat co free 08002986030']"
            ]
          },
          "metadata": {
            "tags": []
          },
          "execution_count": 11
        }
      ]
    },
    {
      "cell_type": "code",
      "metadata": {
        "id": "ekZWd1qyeoC4"
      },
      "source": [
        "cv = CountVectorizer()"
      ],
      "execution_count": 12,
      "outputs": []
    },
    {
      "cell_type": "code",
      "metadata": {
        "id": "wcyhhR1-iUnu"
      },
      "source": [
        "vc = cv.fit_transform(stemmed_doc)"
      ],
      "execution_count": 13,
      "outputs": []
    },
    {
      "cell_type": "code",
      "metadata": {
        "id": "hBHDUT_1iYIs"
      },
      "source": [
        "X = vc.todense()"
      ],
      "execution_count": 14,
      "outputs": []
    },
    {
      "cell_type": "code",
      "metadata": {
        "id": "l7efj05iibZC"
      },
      "source": [
        "X_train, X_test, y_train, y_test = train_test_split(\n",
        "...     X, y, test_size=0.33, random_state=42)"
      ],
      "execution_count": 15,
      "outputs": []
    },
    {
      "cell_type": "code",
      "metadata": {
        "id": "LvQAI7Ywiokr"
      },
      "source": [
        "from sklearn.naive_bayes import MultinomialNB"
      ],
      "execution_count": 16,
      "outputs": []
    },
    {
      "cell_type": "code",
      "metadata": {
        "id": "sP3DzXm7isW6"
      },
      "source": [
        "model = MultinomialNB()"
      ],
      "execution_count": 17,
      "outputs": []
    },
    {
      "cell_type": "code",
      "metadata": {
        "colab": {
          "base_uri": "https://localhost:8080/"
        },
        "id": "ZkddLBj8jlky",
        "outputId": "62f8e982-9cff-4a0b-b2c0-466484bc9ef6"
      },
      "source": [
        "model.fit(X_train, y_train)"
      ],
      "execution_count": 18,
      "outputs": [
        {
          "output_type": "execute_result",
          "data": {
            "text/plain": [
              "MultinomialNB(alpha=1.0, class_prior=None, fit_prior=True)"
            ]
          },
          "metadata": {
            "tags": []
          },
          "execution_count": 18
        }
      ]
    },
    {
      "cell_type": "code",
      "metadata": {
        "colab": {
          "base_uri": "https://localhost:8080/"
        },
        "id": "qaKYOWhQjnh6",
        "outputId": "deb8ee90-c3a6-414d-d223-661d892e6657"
      },
      "source": [
        "model.score(X_test, y_test)"
      ],
      "execution_count": 19,
      "outputs": [
        {
          "output_type": "execute_result",
          "data": {
            "text/plain": [
              "0.977705274605764"
            ]
          },
          "metadata": {
            "tags": []
          },
          "execution_count": 19
        }
      ]
    },
    {
      "cell_type": "code",
      "metadata": {
        "id": "9NM8qRPnjp8h"
      },
      "source": [
        "messages = [\n",
        "    \"\"\"\n",
        "    Hey there!\n",
        "\n",
        "    In today's day, movies and TV shows are the first things that come to mind when you hear the the word 'Spin-off'. \n",
        "    But did you know it has a different meaning in the Stock Market? Find out what they are and who they benefit!\n",
        "    Watch our engaging and easy-to-understand video from the #LearnWithUpstox series and find an answer to these and many more questions.\n",
        "    We promise, no technical terms, only simple explanations!\n",
        "    \"\"\",\n",
        "    \"\"\"Join us today at 12:00 PM ET / 16:00 UTC for a Red Hat DevNation tech talk on AWS Lambda and serverless Java with Bill Burke.\n",
        "Have you ever tried Java on AWS Lambda but found that the cold-start latency and memory usage were far too high? \n",
        "In this session, we will show how we optimized Java for serverless applications by leveraging GraalVM with Quarkus to \n",
        "provide both supersonic startup speed and a subatomic memory footprint.\"\"\",\n",
        "\n",
        "    \"\"\"\n",
        "    You left an item in your cart\n",
        "    Hi, you added an item to your shopping cart and haven't completed your purchase. You can complete it now while it's still available.\n",
        "\"\"\"\n",
        "]"
      ],
      "execution_count": 30,
      "outputs": []
    },
    {
      "cell_type": "code",
      "metadata": {
        "id": "eMg9EecwjzNn"
      },
      "source": [
        "def prepare(messages):\n",
        "  d = getDoc(messages)\n",
        "  return cv.transform(d)"
      ],
      "execution_count": 31,
      "outputs": []
    },
    {
      "cell_type": "code",
      "metadata": {
        "id": "6vFCphugkAbx"
      },
      "source": [
        "messages = prepare(messages)"
      ],
      "execution_count": 32,
      "outputs": []
    },
    {
      "cell_type": "code",
      "metadata": {
        "id": "7zKDmuCUkOLQ"
      },
      "source": [
        "y_pred = model.predict(messages)"
      ],
      "execution_count": 33,
      "outputs": []
    },
    {
      "cell_type": "code",
      "metadata": {
        "colab": {
          "base_uri": "https://localhost:8080/"
        },
        "id": "-xpIIzOMkQwZ",
        "outputId": "b8f3d3f0-d8ef-41fc-b66a-2a1ca3ef6a55"
      },
      "source": [
        "y_pred"
      ],
      "execution_count": 34,
      "outputs": [
        {
          "output_type": "execute_result",
          "data": {
            "text/plain": [
              "array(['ham', 'spam', 'ham'], dtype='<U4')"
            ]
          },
          "metadata": {
            "tags": []
          },
          "execution_count": 34
        }
      ]
    },
    {
      "cell_type": "code",
      "metadata": {
        "id": "etuFnutCkRW7"
      },
      "source": [
        ""
      ],
      "execution_count": null,
      "outputs": []
    }
  ]
}